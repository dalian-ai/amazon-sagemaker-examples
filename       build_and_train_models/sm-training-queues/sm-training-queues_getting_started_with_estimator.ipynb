{
 "cells": [
  {
   "cell_type": "markdown",
   "id": "f6d21c4c-e5fe-4992-9fd9-a33f36e4db2d",
   "metadata": {},
   "source": [
    "# Getting Started with AWS Batch for SageMaker Training jobs\n",
    "\n",
    "---\n",
    "\n",
    "This notebook's CI test result for us-west-2 is as follows. CI test results in other regions can be found at the end of the notebook.\n",
    "\n",
    "![This us-west-2 badge failed to load. Check your device's internet connectivity, otherwise the service is currently unavailable](https://prod.us-west-2.tcx-beacon.docs.aws.dev/sagemaker-nb/us-west-2/build_and_train_models|sm-training-queues|sm-training-queues_getting_started_with_estimator.ipynb)\n",
    "\n",
    "---\n",
    "\n",
    "This sample notebook will demonstrate how to submit some simple 'hello world' jobs to an [AWS Batch job queue](https://aws.amazon.com/batch/) using an [Estimator](https://sagemaker.readthedocs.io/en/stable/api/training/estimators.html#sagemaker.estimator.Estimator). You can run any of the cells in this notebook interactively to experiment with using your queue. Batch will take care of ensuring your jobs run automatically as your service environment capacity becomes available. "
   ]
  },
  {
   "cell_type": "markdown",
   "id": "10e12b35-3dc2-4376-b90e-54c00c70a607",
   "metadata": {
    "tags": []
   },
   "source": [
    "## Setup and Configure Training Job Variables\n",
    "We will need a single instance for a short duration for the sample jobs.  Change any of the constant variables below to adjust the example to your liking. "
   ]
  },
  {
   "cell_type": "code",
   "execution_count": 1,
   "id": "6316085c-262d-4437-8987-9ca7eca94965",
   "metadata": {
    "tags": []
   },
   "outputs": [],
   "source": [
    "INSTANCE_TYPE = \"ml.g5.xlarge\"\n",
    "INSTANCE_COUNT = 1\n",
    "MAX_RUN_TIME = 300\n",
    "TRAINING_JOB_NAME = \"hello-world-simple-job\""
   ]
  },
  {
   "cell_type": "code",
   "execution_count": null,
   "id": "b4edef56-49f3-4729-afdd-5345c5710363",
   "metadata": {
    "tags": []
   },
   "outputs": [],
   "source": [
    "import logging\n",
    "\n",
    "logging.basicConfig(\n",
    "    level=logging.INFO, format=\"%(asctime)s - %(name)s - %(levelname)s - %(message)s\"\n",
    ")\n",
    "logging.getLogger(\"botocore.client\").setLevel(level=logging.WARN)\n",
    "logger = logging.getLogger(__name__)\n",
    "\n",
    "from sagemaker.session import Session\n",
    "from sagemaker import image_uris\n",
    "\n",
    "session = Session()\n",
    "\n",
    "image_uri = image_uris.retrieve(\n",
    "    framework=\"pytorch\",\n",
    "    region=session.boto_session.region_name,\n",
    "    version=\"2.5\",\n",
    "    instance_type=INSTANCE_TYPE,\n",
    "    image_scope=\"training\",\n",
    ")"
   ]
  },
  {
   "cell_type": "markdown",
   "id": "6ad14b9b-360f-446f-94ec-5c7cbd6e0818",
   "metadata": {},
   "source": [
    "## Create Sample Resources\n",
    "The diagram belows shows the Batch resources we'll create for this example.\n",
    "\n",
    "![The Resources to Create](batch_getting_started_resources.png \"Example Job Queue and Service Environment Resources\")\n",
    "\n",
    "You can use [Batch Console](https://console.aws.amazon.com/batch) to create these resources, or you can run the cell below. The ```create_resources``` function below will skip creating any resources that already exist."
   ]
  },
  {
   "cell_type": "code",
   "execution_count": null,
   "id": "e325ddb0-aa86-4f3b-9820-753f4bdadb19",
   "metadata": {
    "tags": []
   },
   "outputs": [],
   "source": [
    "from sagemaker.aws_batch.boto_client import get_batch_boto_client\n",
    "from utils.aws_batch_resource_management import AwsBatchResourceManager, create_resources\n",
    "\n",
    "# This job queue name needs to match the Job Queue created in AWS Batch.\n",
    "JOB_QUEUE_NAME = \"my-sm-training-fifo-jq\"\n",
    "SERVICE_ENVIRONMENT_NAME = \"my-sm-training-fifo-se\"\n",
    "\n",
    "# Create ServiceEnvironment and JobQueue\n",
    "resource_manager = AwsBatchResourceManager(get_batch_boto_client())\n",
    "resources = create_resources(\n",
    "    resource_manager, JOB_QUEUE_NAME, SERVICE_ENVIRONMENT_NAME, max_capacity=1\n",
    ")"
   ]
  },
  {
   "cell_type": "markdown",
   "id": "abf915b1-e4ca-465e-b80a-74b47a607416",
   "metadata": {},
   "source": [
    "## Create Hello World Estimator \n",
    "Now that our resources are created, we'll construct a simple Estimator."
   ]
  },
  {
   "cell_type": "code",
   "execution_count": 4,
   "id": "ecad4b9f-0aae-4b4f-9b38-8fa6e7c683dc",
   "metadata": {},
   "outputs": [],
   "source": [
    "from sagemaker.estimator import Estimator\n",
    "from sagemaker import get_execution_role\n",
    "\n",
    "role = get_execution_role()\n",
    "hello_world_estimator = Estimator(\n",
    "    image_uri=image_uri,\n",
    "    role=role,\n",
    "    instance_count=INSTANCE_COUNT,\n",
    "    instance_type=INSTANCE_TYPE,\n",
    "    volume_size=1,\n",
    "    base_job_name=TRAINING_JOB_NAME,\n",
    "    container_entry_point=[\"echo\", \"Hello\", \"World\"],\n",
    "    max_run=MAX_RUN_TIME,\n",
    ")\n",
    "\n",
    "# This is typically where one would invoke estimator.fit().  Instead, submit to a queue below."
   ]
  },
  {
   "cell_type": "markdown",
   "id": "48f030c1-3e32-4265-a1fe-cdd6927e82ac",
   "metadata": {},
   "source": [
    "## Create TrainingQueue object\n",
    "Using our queue is as easy as referring to it by name in the TrainingQueue contructor. The TrainingQueue class within the SageMaker Python SDK provides built in support for working with Batch queues."
   ]
  },
  {
   "cell_type": "code",
   "execution_count": null,
   "id": "5d90c9a4-ff38-492e-b446-61674701d9ca",
   "metadata": {},
   "outputs": [],
   "source": [
    "from sagemaker.aws_batch.training_queue import TrainingQueue, TrainingQueuedJob\n",
    "\n",
    "# Construct the queue object using the SageMaker Python SDK\n",
    "queue = TrainingQueue(JOB_QUEUE_NAME)\n",
    "logger.info(f\"Using queue: {queue.queue_name}\")"
   ]
  },
  {
   "cell_type": "markdown",
   "id": "734b7fe6-0bf7-460e-aa95-7608421e900c",
   "metadata": {},
   "source": [
    "## Submit Some Training Jobs\n",
    "Submitting your job to the queue is done by calling queue.submit.  This particular job doesn’t require any data, but in general, data should be provided by specifying inputs."
   ]
  },
  {
   "cell_type": "code",
   "execution_count": null,
   "id": "60f2ca52-b1ea-4af2-a143-8202ce34d5e6",
   "metadata": {},
   "outputs": [],
   "source": [
    "# Submit first job\n",
    "training_queued_job_1: TrainingQueuedJob = queue.submit(\n",
    "    training_job=hello_world_estimator, inputs=None\n",
    ")\n",
    "logger.info(\n",
    "    f\"Submitted job '{training_queued_job_1.job_name}' to TrainingQueue '{queue.queue_name}'\"\n",
    ")\n",
    "\n",
    "# Submit second job\n",
    "training_queued_job_2: TrainingQueuedJob = queue.submit(\n",
    "    training_job=hello_world_estimator, inputs=None\n",
    ")\n",
    "logger.info(\n",
    "    f\"Submitted job '{training_queued_job_2.job_name}' to TrainingQueue '{queue.queue_name}'\"\n",
    ")"
   ]
  },
  {
   "cell_type": "markdown",
   "id": "da85757f-d17c-402f-87b8-164149ea9165",
   "metadata": {
    "tags": []
   },
   "source": [
    "## Terminate a Job in the Queue\n",
    "This next cell shows how to terminate an in queue job."
   ]
  },
  {
   "cell_type": "code",
   "execution_count": null,
   "id": "b467767b-21b4-4cc0-987d-d07ef7f15ca0",
   "metadata": {},
   "outputs": [],
   "source": [
    "logger.info(f\"Terminating job: {training_queued_job_2.job_name}\")\n",
    "training_queued_job_2.terminate()"
   ]
  },
  {
   "cell_type": "markdown",
   "id": "d578124b-8067-47cf-895c-3076a242d6a6",
   "metadata": {},
   "source": [
    "## Monitor Job Status\n",
    "This next cell shows how to list the jobs that have been submitted to the TrainingQueue.  The TrainingQueue can list jobs by status, and each job can be described individually for more details.  Once a TrainingQueuedJob has reached the STARTING status, the logs can be printed from underlying SageMaker training job."
   ]
  },
  {
   "cell_type": "code",
   "execution_count": null,
   "id": "1e8de2fe-ab1d-4703-ace3-1e44ae1b2d7c",
   "metadata": {},
   "outputs": [],
   "source": [
    "import time\n",
    "\n",
    "\n",
    "def list_jobs_in_training_queue(training_queue: TrainingQueue):\n",
    "    \"\"\"\n",
    "    Lists all jobs in a TrainingQueue grouped by their status.\n",
    "\n",
    "    This function retrieves jobs with different statuses (SUBMITTED, PENDING, RUNNABLE,\n",
    "    SCHEDULED, STARTING, RUNNING, SUCCEEDED, FAILED) from the specified TrainingQueue\n",
    "    and logs their names and current status.\n",
    "\n",
    "    Args:\n",
    "        training_queue (TrainingQueue): The TrainingQueue to query for jobs.\n",
    "\n",
    "    Returns:\n",
    "        None: This function doesn't return a value but logs job information.\n",
    "    \"\"\"\n",
    "    submitted_jobs = training_queue.list_jobs(status=\"SUBMITTED\")\n",
    "    pending_jobs = training_queue.list_jobs(status=\"PENDING\")\n",
    "    runnable_jobs = training_queue.list_jobs(status=\"RUNNABLE\")\n",
    "    scheduled_jobs = training_queue.list_jobs(status=\"SCHEDULED\")\n",
    "    starting_jobs = training_queue.list_jobs(status=\"STARTING\")\n",
    "    running_jobs = training_queue.list_jobs(status=\"RUNNING\")\n",
    "    completed_jobs = training_queue.list_jobs(status=\"SUCCEEDED\")\n",
    "    failed_jobs = training_queue.list_jobs(status=\"FAILED\")\n",
    "\n",
    "    all_jobs = (\n",
    "        submitted_jobs\n",
    "        + pending_jobs\n",
    "        + runnable_jobs\n",
    "        + scheduled_jobs\n",
    "        + starting_jobs\n",
    "        + running_jobs\n",
    "        + completed_jobs\n",
    "        + failed_jobs\n",
    "    )\n",
    "\n",
    "    for job in all_jobs:\n",
    "        job_status = job.describe().get(\"status\", \"\")\n",
    "        logger.info(f\"Job : {job.job_name} is {job_status}\")\n",
    "\n",
    "\n",
    "def monitor_training_queued_job(job: TrainingQueuedJob):\n",
    "    \"\"\"\n",
    "    Monitors a TrainingQueuedJob until it reaches an active or terminal state.\n",
    "\n",
    "    This function continuously polls the status of the specified TrainingQueuedJob\n",
    "    until it transitions to one of the following states: STARTING, RUNNING,\n",
    "    SUCCEEDED, or FAILED. Once the job reaches one of these states, the function\n",
    "    retrieves and displays the job's logs.\n",
    "\n",
    "    Args:\n",
    "        job (TrainingQueuedJob): The TrainingQueuedJob to monitor.\n",
    "\n",
    "    Returns:\n",
    "        None: This function doesn't return a value but displays job logs.\n",
    "    \"\"\"\n",
    "    while True:\n",
    "        job_status = job.describe().get(\"status\", \"\")\n",
    "\n",
    "        if job_status in {\"STARTING\", \"RUNNING\", \"SUCCEEDED\", \"FAILED\"}:\n",
    "            break\n",
    "\n",
    "        logger.info(f\"Job : {job.job_name} is {job_status}\")\n",
    "        time.sleep(5)\n",
    "\n",
    "    # Print training job logs\n",
    "    job.get_estimator().logs()\n",
    "\n",
    "\n",
    "logger.info(f\"Listing all jobs in queue '{queue.queue_name}'...\")\n",
    "list_jobs_in_training_queue(queue)\n",
    "\n",
    "logger.info(f\"Polling job status for '{training_queued_job_1.job_name}'\")\n",
    "monitor_training_queued_job(training_queued_job_1)"
   ]
  },
  {
   "cell_type": "markdown",
   "id": "3ca39fca-6bb6-4e0b-841e-7f66d97b6074",
   "metadata": {},
   "source": [
    "# Optional: Delete AWS Batch Resources\n",
    "This shows how to delete the AWS Batch ServiceEnvironment and JobQueue.  This step is completely optional, uncomment the code below to delete the resources created a few steps above."
   ]
  },
  {
   "cell_type": "code",
   "execution_count": null,
   "id": "8d745e2d-40a8-45ef-b231-e8acd9b5e8eb",
   "metadata": {
    "tags": []
   },
   "outputs": [],
   "source": [
    "from utils.aws_batch_resource_management import delete_resources\n",
    "\n",
    "# delete_resources(resource_manager, resources)"
   ]
  },
  {
   "cell_type": "markdown",
   "id": "b289353a",
   "metadata": {},
   "source": [
    "## Notebook CI Test Results\n",
    "\n",
    "This notebook was tested in multiple regions. The test results are as follows, except for us-west-2 which is shown at the top of the notebook.\n",
    "\n",
    "\n",
    "![This us-east-1 badge failed to load. Check your device's internet connectivity, otherwise the service is currently unavailable](https://prod.us-west-2.tcx-beacon.docs.aws.dev/sagemaker-nb/us-east-1/build_and_train_models|sm-training-queues|sm-training-queues_getting_started_with_estimator.ipynb)\n",
    "\n",
    "![This us-east-2 badge failed to load. Check your device's internet connectivity, otherwise the service is currently unavailable](https://prod.us-west-2.tcx-beacon.docs.aws.dev/sagemaker-nb/us-east-2/build_and_train_models|sm-training-queues|sm-training-queues_getting_started_with_estimator.ipynb)\n",
    "\n",
    "![This us-west-1 badge failed to load. Check your device's internet connectivity, otherwise the service is currently unavailable](https://prod.us-west-2.tcx-beacon.docs.aws.dev/sagemaker-nb/us-west-1/build_and_train_models|sm-training-queues|sm-training-queues_getting_started_with_estimator.ipynb)\n",
    "\n",
    "![This ca-central-1 badge failed to load. Check your device's internet connectivity, otherwise the service is currently unavailable](https://prod.us-west-2.tcx-beacon.docs.aws.dev/sagemaker-nb/ca-central-1/build_and_train_models|sm-training-queues|sm-training-queues_getting_started_with_estimator.ipynb)\n",
    "\n",
    "![This sa-east-1 badge failed to load. Check your device's internet connectivity, otherwise the service is currently unavailable](https://prod.us-west-2.tcx-beacon.docs.aws.dev/sagemaker-nb/sa-east-1/build_and_train_models|sm-training-queues|sm-training-queues_getting_started_with_estimator.ipynb)\n",
    "\n",
    "![This eu-west-1 badge failed to load. Check your device's internet connectivity, otherwise the service is currently unavailable](https://prod.us-west-2.tcx-beacon.docs.aws.dev/sagemaker-nb/eu-west-1/build_and_train_models|sm-training-queues|sm-training-queues_getting_started_with_estimator.ipynb)\n",
    "\n",
    "![This eu-west-2 badge failed to load. Check your device's internet connectivity, otherwise the service is currently unavailable](https://prod.us-west-2.tcx-beacon.docs.aws.dev/sagemaker-nb/eu-west-2/build_and_train_models|sm-training-queues|sm-training-queues_getting_started_with_estimator.ipynb)\n",
    "\n",
    "![This eu-west-3 badge failed to load. Check your device's internet connectivity, otherwise the service is currently unavailable](https://prod.us-west-2.tcx-beacon.docs.aws.dev/sagemaker-nb/eu-west-3/build_and_train_models|sm-training-queues|sm-training-queues_getting_started_with_estimator.ipynb)\n",
    "\n",
    "![This eu-central-1 badge failed to load. Check your device's internet connectivity, otherwise the service is currently unavailable](https://prod.us-west-2.tcx-beacon.docs.aws.dev/sagemaker-nb/eu-central-1/build_and_train_models|sm-training-queues|sm-training-queues_getting_started_with_estimator.ipynb)\n",
    "\n",
    "![This eu-north-1 badge failed to load. Check your device's internet connectivity, otherwise the service is currently unavailable](https://prod.us-west-2.tcx-beacon.docs.aws.dev/sagemaker-nb/eu-north-1/build_and_train_models|sm-training-queues|sm-training-queues_getting_started_with_estimator.ipynb)\n",
    "\n",
    "![This ap-southeast-1 badge failed to load. Check your device's internet connectivity, otherwise the service is currently unavailable](https://prod.us-west-2.tcx-beacon.docs.aws.dev/sagemaker-nb/ap-southeast-1/build_and_train_models|sm-training-queues|sm-training-queues_getting_started_with_estimator.ipynb)\n",
    "\n",
    "![This ap-southeast-2 badge failed to load. Check your device's internet connectivity, otherwise the service is currently unavailable](https://prod.us-west-2.tcx-beacon.docs.aws.dev/sagemaker-nb/ap-southeast-2/build_and_train_models|sm-training-queues|sm-training-queues_getting_started_with_estimator.ipynb)\n",
    "\n",
    "![This ap-northeast-1 badge failed to load. Check your device's internet connectivity, otherwise the service is currently unavailable](https://prod.us-west-2.tcx-beacon.docs.aws.dev/sagemaker-nb/ap-northeast-1/build_and_train_models|sm-training-queues|sm-training-queues_getting_started_with_estimator.ipynb)\n",
    "\n",
    "![This ap-northeast-2 badge failed to load. Check your device's internet connectivity, otherwise the service is currently unavailable](https://prod.us-west-2.tcx-beacon.docs.aws.dev/sagemaker-nb/ap-northeast-2/build_and_train_models|sm-training-queues|sm-training-queues_getting_started_with_estimator.ipynb)\n",
    "\n",
    "![This ap-south-1 badge failed to load. Check your device's internet connectivity, otherwise the service is currently unavailable](https://prod.us-west-2.tcx-beacon.docs.aws.dev/sagemaker-nb/ap-south-1/build_and_train_models|sm-training-queues|sm-training-queues_getting_started_with_estimator.ipynb)\n"
   ]
  }
 ],
 "metadata": {
  "availableInstances": [
   {
    "_defaultOrder": 0,
    "_isFastLaunch": true,
    "category": "General purpose",
    "gpuNum": 0,
    "hideHardwareSpecs": false,
    "memoryGiB": 4,
    "name": "ml.t3.medium",
    "vcpuNum": 2
   },
   {
    "_defaultOrder": 1,
    "_isFastLaunch": false,
    "category": "General purpose",
    "gpuNum": 0,
    "hideHardwareSpecs": false,
    "memoryGiB": 8,
    "name": "ml.t3.large",
    "vcpuNum": 2
   },
   {
    "_defaultOrder": 2,
    "_isFastLaunch": false,
    "category": "General purpose",
    "gpuNum": 0,
    "hideHardwareSpecs": false,
    "memoryGiB": 16,
    "name": "ml.t3.xlarge",
    "vcpuNum": 4
   },
   {
    "_defaultOrder": 3,
    "_isFastLaunch": false,
    "category": "General purpose",
    "gpuNum": 0,
    "hideHardwareSpecs": false,
    "memoryGiB": 32,
    "name": "ml.t3.2xlarge",
    "vcpuNum": 8
   },
   {
    "_defaultOrder": 4,
    "_isFastLaunch": true,
    "category": "General purpose",
    "gpuNum": 0,
    "hideHardwareSpecs": false,
    "memoryGiB": 8,
    "name": "ml.m5.large",
    "vcpuNum": 2
   },
   {
    "_defaultOrder": 5,
    "_isFastLaunch": false,
    "category": "General purpose",
    "gpuNum": 0,
    "hideHardwareSpecs": false,
    "memoryGiB": 16,
    "name": "ml.m5.xlarge",
    "vcpuNum": 4
   },
   {
    "_defaultOrder": 6,
    "_isFastLaunch": false,
    "category": "General purpose",
    "gpuNum": 0,
    "hideHardwareSpecs": false,
    "memoryGiB": 32,
    "name": "ml.m5.2xlarge",
    "vcpuNum": 8
   },
   {
    "_defaultOrder": 7,
    "_isFastLaunch": false,
    "category": "General purpose",
    "gpuNum": 0,
    "hideHardwareSpecs": false,
    "memoryGiB": 64,
    "name": "ml.m5.4xlarge",
    "vcpuNum": 16
   },
   {
    "_defaultOrder": 8,
    "_isFastLaunch": false,
    "category": "General purpose",
    "gpuNum": 0,
    "hideHardwareSpecs": false,
    "memoryGiB": 128,
    "name": "ml.m5.8xlarge",
    "vcpuNum": 32
   },
   {
    "_defaultOrder": 9,
    "_isFastLaunch": false,
    "category": "General purpose",
    "gpuNum": 0,
    "hideHardwareSpecs": false,
    "memoryGiB": 192,
    "name": "ml.m5.12xlarge",
    "vcpuNum": 48
   },
   {
    "_defaultOrder": 10,
    "_isFastLaunch": false,
    "category": "General purpose",
    "gpuNum": 0,
    "hideHardwareSpecs": false,
    "memoryGiB": 256,
    "name": "ml.m5.16xlarge",
    "vcpuNum": 64
   },
   {
    "_defaultOrder": 11,
    "_isFastLaunch": false,
    "category": "General purpose",
    "gpuNum": 0,
    "hideHardwareSpecs": false,
    "memoryGiB": 384,
    "name": "ml.m5.24xlarge",
    "vcpuNum": 96
   },
   {
    "_defaultOrder": 12,
    "_isFastLaunch": false,
    "category": "General purpose",
    "gpuNum": 0,
    "hideHardwareSpecs": false,
    "memoryGiB": 8,
    "name": "ml.m5d.large",
    "vcpuNum": 2
   },
   {
    "_defaultOrder": 13,
    "_isFastLaunch": false,
    "category": "General purpose",
    "gpuNum": 0,
    "hideHardwareSpecs": false,
    "memoryGiB": 16,
    "name": "ml.m5d.xlarge",
    "vcpuNum": 4
   },
   {
    "_defaultOrder": 14,
    "_isFastLaunch": false,
    "category": "General purpose",
    "gpuNum": 0,
    "hideHardwareSpecs": false,
    "memoryGiB": 32,
    "name": "ml.m5d.2xlarge",
    "vcpuNum": 8
   },
   {
    "_defaultOrder": 15,
    "_isFastLaunch": false,
    "category": "General purpose",
    "gpuNum": 0,
    "hideHardwareSpecs": false,
    "memoryGiB": 64,
    "name": "ml.m5d.4xlarge",
    "vcpuNum": 16
   },
   {
    "_defaultOrder": 16,
    "_isFastLaunch": false,
    "category": "General purpose",
    "gpuNum": 0,
    "hideHardwareSpecs": false,
    "memoryGiB": 128,
    "name": "ml.m5d.8xlarge",
    "vcpuNum": 32
   },
   {
    "_defaultOrder": 17,
    "_isFastLaunch": false,
    "category": "General purpose",
    "gpuNum": 0,
    "hideHardwareSpecs": false,
    "memoryGiB": 192,
    "name": "ml.m5d.12xlarge",
    "vcpuNum": 48
   },
   {
    "_defaultOrder": 18,
    "_isFastLaunch": false,
    "category": "General purpose",
    "gpuNum": 0,
    "hideHardwareSpecs": false,
    "memoryGiB": 256,
    "name": "ml.m5d.16xlarge",
    "vcpuNum": 64
   },
   {
    "_defaultOrder": 19,
    "_isFastLaunch": false,
    "category": "General purpose",
    "gpuNum": 0,
    "hideHardwareSpecs": false,
    "memoryGiB": 384,
    "name": "ml.m5d.24xlarge",
    "vcpuNum": 96
   },
   {
    "_defaultOrder": 20,
    "_isFastLaunch": false,
    "category": "General purpose",
    "gpuNum": 0,
    "hideHardwareSpecs": true,
    "memoryGiB": 0,
    "name": "ml.geospatial.interactive",
    "supportedImageNames": [
     "sagemaker-geospatial-v1-0"
    ],
    "vcpuNum": 0
   },
   {
    "_defaultOrder": 21,
    "_isFastLaunch": true,
    "category": "Compute optimized",
    "gpuNum": 0,
    "hideHardwareSpecs": false,
    "memoryGiB": 4,
    "name": "ml.c5.large",
    "vcpuNum": 2
   },
   {
    "_defaultOrder": 22,
    "_isFastLaunch": false,
    "category": "Compute optimized",
    "gpuNum": 0,
    "hideHardwareSpecs": false,
    "memoryGiB": 8,
    "name": "ml.c5.xlarge",
    "vcpuNum": 4
   },
   {
    "_defaultOrder": 23,
    "_isFastLaunch": false,
    "category": "Compute optimized",
    "gpuNum": 0,
    "hideHardwareSpecs": false,
    "memoryGiB": 16,
    "name": "ml.c5.2xlarge",
    "vcpuNum": 8
   },
   {
    "_defaultOrder": 24,
    "_isFastLaunch": false,
    "category": "Compute optimized",
    "gpuNum": 0,
    "hideHardwareSpecs": false,
    "memoryGiB": 32,
    "name": "ml.c5.4xlarge",
    "vcpuNum": 16
   },
   {
    "_defaultOrder": 25,
    "_isFastLaunch": false,
    "category": "Compute optimized",
    "gpuNum": 0,
    "hideHardwareSpecs": false,
    "memoryGiB": 72,
    "name": "ml.c5.9xlarge",
    "vcpuNum": 36
   },
   {
    "_defaultOrder": 26,
    "_isFastLaunch": false,
    "category": "Compute optimized",
    "gpuNum": 0,
    "hideHardwareSpecs": false,
    "memoryGiB": 96,
    "name": "ml.c5.12xlarge",
    "vcpuNum": 48
   },
   {
    "_defaultOrder": 27,
    "_isFastLaunch": false,
    "category": "Compute optimized",
    "gpuNum": 0,
    "hideHardwareSpecs": false,
    "memoryGiB": 144,
    "name": "ml.c5.18xlarge",
    "vcpuNum": 72
   },
   {
    "_defaultOrder": 28,
    "_isFastLaunch": false,
    "category": "Compute optimized",
    "gpuNum": 0,
    "hideHardwareSpecs": false,
    "memoryGiB": 192,
    "name": "ml.c5.24xlarge",
    "vcpuNum": 96
   },
   {
    "_defaultOrder": 29,
    "_isFastLaunch": true,
    "category": "Accelerated computing",
    "gpuNum": 1,
    "hideHardwareSpecs": false,
    "memoryGiB": 16,
    "name": "ml.g4dn.xlarge",
    "vcpuNum": 4
   },
   {
    "_defaultOrder": 30,
    "_isFastLaunch": false,
    "category": "Accelerated computing",
    "gpuNum": 1,
    "hideHardwareSpecs": false,
    "memoryGiB": 32,
    "name": "ml.g4dn.2xlarge",
    "vcpuNum": 8
   },
   {
    "_defaultOrder": 31,
    "_isFastLaunch": false,
    "category": "Accelerated computing",
    "gpuNum": 1,
    "hideHardwareSpecs": false,
    "memoryGiB": 64,
    "name": "ml.g4dn.4xlarge",
    "vcpuNum": 16
   },
   {
    "_defaultOrder": 32,
    "_isFastLaunch": false,
    "category": "Accelerated computing",
    "gpuNum": 1,
    "hideHardwareSpecs": false,
    "memoryGiB": 128,
    "name": "ml.g4dn.8xlarge",
    "vcpuNum": 32
   },
   {
    "_defaultOrder": 33,
    "_isFastLaunch": false,
    "category": "Accelerated computing",
    "gpuNum": 4,
    "hideHardwareSpecs": false,
    "memoryGiB": 192,
    "name": "ml.g4dn.12xlarge",
    "vcpuNum": 48
   },
   {
    "_defaultOrder": 34,
    "_isFastLaunch": false,
    "category": "Accelerated computing",
    "gpuNum": 1,
    "hideHardwareSpecs": false,
    "memoryGiB": 256,
    "name": "ml.g4dn.16xlarge",
    "vcpuNum": 64
   },
   {
    "_defaultOrder": 35,
    "_isFastLaunch": false,
    "category": "Accelerated computing",
    "gpuNum": 1,
    "hideHardwareSpecs": false,
    "memoryGiB": 61,
    "name": "ml.p3.2xlarge",
    "vcpuNum": 8
   },
   {
    "_defaultOrder": 36,
    "_isFastLaunch": false,
    "category": "Accelerated computing",
    "gpuNum": 4,
    "hideHardwareSpecs": false,
    "memoryGiB": 244,
    "name": "ml.p3.8xlarge",
    "vcpuNum": 32
   },
   {
    "_defaultOrder": 37,
    "_isFastLaunch": false,
    "category": "Accelerated computing",
    "gpuNum": 8,
    "hideHardwareSpecs": false,
    "memoryGiB": 488,
    "name": "ml.p3.16xlarge",
    "vcpuNum": 64
   },
   {
    "_defaultOrder": 38,
    "_isFastLaunch": false,
    "category": "Accelerated computing",
    "gpuNum": 8,
    "hideHardwareSpecs": false,
    "memoryGiB": 768,
    "name": "ml.p3dn.24xlarge",
    "vcpuNum": 96
   },
   {
    "_defaultOrder": 39,
    "_isFastLaunch": false,
    "category": "Memory Optimized",
    "gpuNum": 0,
    "hideHardwareSpecs": false,
    "memoryGiB": 16,
    "name": "ml.r5.large",
    "vcpuNum": 2
   },
   {
    "_defaultOrder": 40,
    "_isFastLaunch": false,
    "category": "Memory Optimized",
    "gpuNum": 0,
    "hideHardwareSpecs": false,
    "memoryGiB": 32,
    "name": "ml.r5.xlarge",
    "vcpuNum": 4
   },
   {
    "_defaultOrder": 41,
    "_isFastLaunch": false,
    "category": "Memory Optimized",
    "gpuNum": 0,
    "hideHardwareSpecs": false,
    "memoryGiB": 64,
    "name": "ml.r5.2xlarge",
    "vcpuNum": 8
   },
   {
    "_defaultOrder": 42,
    "_isFastLaunch": false,
    "category": "Memory Optimized",
    "gpuNum": 0,
    "hideHardwareSpecs": false,
    "memoryGiB": 128,
    "name": "ml.r5.4xlarge",
    "vcpuNum": 16
   },
   {
    "_defaultOrder": 43,
    "_isFastLaunch": false,
    "category": "Memory Optimized",
    "gpuNum": 0,
    "hideHardwareSpecs": false,
    "memoryGiB": 256,
    "name": "ml.r5.8xlarge",
    "vcpuNum": 32
   },
   {
    "_defaultOrder": 44,
    "_isFastLaunch": false,
    "category": "Memory Optimized",
    "gpuNum": 0,
    "hideHardwareSpecs": false,
    "memoryGiB": 384,
    "name": "ml.r5.12xlarge",
    "vcpuNum": 48
   },
   {
    "_defaultOrder": 45,
    "_isFastLaunch": false,
    "category": "Memory Optimized",
    "gpuNum": 0,
    "hideHardwareSpecs": false,
    "memoryGiB": 512,
    "name": "ml.r5.16xlarge",
    "vcpuNum": 64
   },
   {
    "_defaultOrder": 46,
    "_isFastLaunch": false,
    "category": "Memory Optimized",
    "gpuNum": 0,
    "hideHardwareSpecs": false,
    "memoryGiB": 768,
    "name": "ml.r5.24xlarge",
    "vcpuNum": 96
   },
   {
    "_defaultOrder": 47,
    "_isFastLaunch": false,
    "category": "Accelerated computing",
    "gpuNum": 1,
    "hideHardwareSpecs": false,
    "memoryGiB": 16,
    "name": "ml.g5.xlarge",
    "vcpuNum": 4
   },
   {
    "_defaultOrder": 48,
    "_isFastLaunch": false,
    "category": "Accelerated computing",
    "gpuNum": 1,
    "hideHardwareSpecs": false,
    "memoryGiB": 32,
    "name": "ml.g5.2xlarge",
    "vcpuNum": 8
   },
   {
    "_defaultOrder": 49,
    "_isFastLaunch": false,
    "category": "Accelerated computing",
    "gpuNum": 1,
    "hideHardwareSpecs": false,
    "memoryGiB": 64,
    "name": "ml.g5.4xlarge",
    "vcpuNum": 16
   },
   {
    "_defaultOrder": 50,
    "_isFastLaunch": false,
    "category": "Accelerated computing",
    "gpuNum": 1,
    "hideHardwareSpecs": false,
    "memoryGiB": 128,
    "name": "ml.g5.8xlarge",
    "vcpuNum": 32
   },
   {
    "_defaultOrder": 51,
    "_isFastLaunch": false,
    "category": "Accelerated computing",
    "gpuNum": 1,
    "hideHardwareSpecs": false,
    "memoryGiB": 256,
    "name": "ml.g5.16xlarge",
    "vcpuNum": 64
   },
   {
    "_defaultOrder": 52,
    "_isFastLaunch": false,
    "category": "Accelerated computing",
    "gpuNum": 4,
    "hideHardwareSpecs": false,
    "memoryGiB": 192,
    "name": "ml.g5.12xlarge",
    "vcpuNum": 48
   },
   {
    "_defaultOrder": 53,
    "_isFastLaunch": false,
    "category": "Accelerated computing",
    "gpuNum": 4,
    "hideHardwareSpecs": false,
    "memoryGiB": 384,
    "name": "ml.g5.24xlarge",
    "vcpuNum": 96
   },
   {
    "_defaultOrder": 54,
    "_isFastLaunch": false,
    "category": "Accelerated computing",
    "gpuNum": 8,
    "hideHardwareSpecs": false,
    "memoryGiB": 768,
    "name": "ml.g5.48xlarge",
    "vcpuNum": 192
   },
   {
    "_defaultOrder": 55,
    "_isFastLaunch": false,
    "category": "Accelerated computing",
    "gpuNum": 8,
    "hideHardwareSpecs": false,
    "memoryGiB": 1152,
    "name": "ml.p4d.24xlarge",
    "vcpuNum": 96
   },
   {
    "_defaultOrder": 56,
    "_isFastLaunch": false,
    "category": "Accelerated computing",
    "gpuNum": 8,
    "hideHardwareSpecs": false,
    "memoryGiB": 1152,
    "name": "ml.p4de.24xlarge",
    "vcpuNum": 96
   },
   {
    "_defaultOrder": 57,
    "_isFastLaunch": false,
    "category": "Accelerated computing",
    "gpuNum": 0,
    "hideHardwareSpecs": false,
    "memoryGiB": 32,
    "name": "ml.trn1.2xlarge",
    "vcpuNum": 8
   },
   {
    "_defaultOrder": 58,
    "_isFastLaunch": false,
    "category": "Accelerated computing",
    "gpuNum": 0,
    "hideHardwareSpecs": false,
    "memoryGiB": 512,
    "name": "ml.trn1.32xlarge",
    "vcpuNum": 128
   },
   {
    "_defaultOrder": 59,
    "_isFastLaunch": false,
    "category": "Accelerated computing",
    "gpuNum": 0,
    "hideHardwareSpecs": false,
    "memoryGiB": 512,
    "name": "ml.trn1n.32xlarge",
    "vcpuNum": 128
   }
  ],
  "instance_type": "ml.t3.medium",
  "kernelspec": {
   "display_name": "amazon-sagemaker-examples-staging",
   "language": "python",
   "name": "python3"
  },
  "language_info": {
   "codemirror_mode": {
    "name": "ipython",
    "version": 3
   },
   "file_extension": ".py",
   "mimetype": "text/x-python",
   "name": "python",
   "nbconvert_exporter": "python",
   "pygments_lexer": "ipython3",
   "version": "3.9.21"
  }
 },
 "nbformat": 4,
 "nbformat_minor": 5
}
